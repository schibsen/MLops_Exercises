{
 "cells": [
  {
   "cell_type": "code",
   "execution_count": 12,
   "id": "a9a7dbba-d018-4482-b0f5-a40198c68f4e",
   "metadata": {},
   "outputs": [],
   "source": [
    "\"\"\"\n",
    "Adapted from\n",
    "https://github.com/Jackson-Kang/Pytorch-VAE-tutorial/blob/master/01_Variational_AutoEncoder.ipynb\n",
    "\n",
    "A simple implementation of Gaussian MLP Encoder and Decoder trained on MNIST\n",
    "\"\"\"\n",
    "import torch\n",
    "import torch.nn as nn\n",
    "from torchvision.utils import save_image\n",
    "from torchvision.datasets import MNIST\n",
    "import torchvision.transforms as transforms\n",
    "from torch.utils.data import DataLoader\n",
    "import cProfile\n",
    "import pstats\n",
    "import re\n",
    "from torch.profiler import tensorboard_trace_handler"
   ]
  },
  {
   "cell_type": "code",
   "execution_count": 4,
   "id": "17a5cfe5-db13-4501-8c9e-07775dda113d",
   "metadata": {},
   "outputs": [],
   "source": [
    "# Model Hyperparameters\n",
    "dataset_path = '~\\\\datasets'\n",
    "cuda = True\n",
    "DEVICE = torch.device('cuda' if torch.cuda.is_available() else 'cpu')\n",
    "batch_size = 100\n",
    "x_dim  = 784\n",
    "hidden_dim = 400\n",
    "latent_dim = 20\n",
    "lr = 1e-3\n",
    "epochs = 1 # default: 5"
   ]
  },
  {
   "cell_type": "code",
   "execution_count": 5,
   "id": "7fd021c7-f07d-4928-b2a5-4a9b0ad28702",
   "metadata": {},
   "outputs": [
    {
     "name": "stdout",
     "output_type": "stream",
     "text": [
      "Downloading http://yann.lecun.com/exdb/mnist/train-images-idx3-ubyte.gz to C:\\Users\\annas\\datasets\\MNIST\\raw\\train-images-idx3-ubyte.gz\n"
     ]
    },
    {
     "data": {
      "application/vnd.jupyter.widget-view+json": {
       "model_id": "b1d41d43edc343248f56b716eab121ae",
       "version_major": 2,
       "version_minor": 0
      },
      "text/plain": [
       "0it [00:00, ?it/s]"
      ]
     },
     "metadata": {},
     "output_type": "display_data"
    },
    {
     "name": "stdout",
     "output_type": "stream",
     "text": [
      "Extracting C:\\Users\\annas\\datasets\\MNIST\\raw\\train-images-idx3-ubyte.gz\n",
      "Downloading http://yann.lecun.com/exdb/mnist/train-labels-idx1-ubyte.gz to C:\\Users\\annas\\datasets\\MNIST\\raw\\train-labels-idx1-ubyte.gz\n"
     ]
    },
    {
     "data": {
      "application/vnd.jupyter.widget-view+json": {
       "model_id": "05921c2ac13643bc81099360c73a9560",
       "version_major": 2,
       "version_minor": 0
      },
      "text/plain": [
       "0it [00:00, ?it/s]"
      ]
     },
     "metadata": {},
     "output_type": "display_data"
    },
    {
     "name": "stdout",
     "output_type": "stream",
     "text": [
      "Extracting C:\\Users\\annas\\datasets\\MNIST\\raw\\train-labels-idx1-ubyte.gz\n",
      "Downloading http://yann.lecun.com/exdb/mnist/t10k-images-idx3-ubyte.gz to C:\\Users\\annas\\datasets\\MNIST\\raw\\t10k-images-idx3-ubyte.gz\n"
     ]
    },
    {
     "data": {
      "application/vnd.jupyter.widget-view+json": {
       "model_id": "8522fa8939e946919813194f707bd0e1",
       "version_major": 2,
       "version_minor": 0
      },
      "text/plain": [
       "0it [00:00, ?it/s]"
      ]
     },
     "metadata": {},
     "output_type": "display_data"
    },
    {
     "name": "stdout",
     "output_type": "stream",
     "text": [
      "Extracting C:\\Users\\annas\\datasets\\MNIST\\raw\\t10k-images-idx3-ubyte.gz\n",
      "Downloading http://yann.lecun.com/exdb/mnist/t10k-labels-idx1-ubyte.gz to C:\\Users\\annas\\datasets\\MNIST\\raw\\t10k-labels-idx1-ubyte.gz\n"
     ]
    },
    {
     "data": {
      "application/vnd.jupyter.widget-view+json": {
       "model_id": "e471390b4ee4443d9a205b1c0c39e428",
       "version_major": 2,
       "version_minor": 0
      },
      "text/plain": [
       "0it [00:00, ?it/s]"
      ]
     },
     "metadata": {},
     "output_type": "display_data"
    },
    {
     "name": "stdout",
     "output_type": "stream",
     "text": [
      "Extracting C:\\Users\\annas\\datasets\\MNIST\\raw\\t10k-labels-idx1-ubyte.gz\n",
      "Processing...\n"
     ]
    },
    {
     "name": "stderr",
     "output_type": "stream",
     "text": [
      "C:\\Users\\annas\\anaconda3\\lib\\site-packages\\torchvision\\datasets\\mnist.py:335: UserWarning: The given NumPy array is not writeable, and PyTorch does not support non-writeable tensors. This means you can write to the underlying (supposedly non-writeable) NumPy array using the tensor. You may want to copy the array to protect its data or make it writeable before converting it to a tensor. This type of warning will be suppressed for the rest of this program. (Triggered internally at  ..\\torch\\csrc\\utils\\tensor_numpy.cpp:143.)\n",
      "  return torch.from_numpy(parsed).view(length, num_rows, num_cols)\n"
     ]
    },
    {
     "name": "stdout",
     "output_type": "stream",
     "text": [
      "Done!\n"
     ]
    }
   ],
   "source": [
    "# Data loading\n",
    "mnist_transform = transforms.Compose([transforms.ToTensor()])\n",
    "\n",
    "train_dataset = MNIST(dataset_path, transform=mnist_transform, train=True, download=True)\n",
    "test_dataset  = MNIST(dataset_path, transform=mnist_transform, train=False, download=True)\n",
    "\n",
    "train_loader = DataLoader(dataset=train_dataset, batch_size=batch_size, shuffle=True)\n",
    "test_loader  = DataLoader(dataset=test_dataset,  batch_size=batch_size, shuffle=False)"
   ]
  },
  {
   "cell_type": "code",
   "execution_count": 6,
   "id": "a51b5822-e5b8-439d-895c-bfc6bbce9323",
   "metadata": {},
   "outputs": [],
   "source": [
    "class Encoder(nn.Module):  \n",
    "    def __init__(self, input_dim, hidden_dim, latent_dim):\n",
    "        super(Encoder, self).__init__()\n",
    "        \n",
    "        self.FC_input = nn.Linear(input_dim, hidden_dim)\n",
    "        self.FC_mean  = nn.Linear(hidden_dim, latent_dim) # (400, 20)\n",
    "        self.FC_var   = nn.Linear (hidden_dim, latent_dim) # (400, 20)\n",
    "        self.training = True\n",
    "        \n",
    "    def forward(self, x):\n",
    "        h_       = torch.relu(self.FC_input(x))\n",
    "        mean     = self.FC_mean(h_)\n",
    "        log_var  = self.FC_var(h_)                     \n",
    "                                                      \n",
    "        var      = torch.exp(0.5*log_var)             \n",
    "        z        = self.reparameterization(mean, var)\n",
    "        \n",
    "        return z, mean, log_var\n",
    "       \n",
    "    def reparameterization(self, mean, var,):\n",
    "        epsilon = torch.rand_like(var)\n",
    "        \n",
    "        z = mean + var*epsilon\n",
    "        \n",
    "        return z\n",
    "    \n",
    "class Decoder(nn.Module):\n",
    "    def __init__(self, latent_dim, hidden_dim, output_dim):\n",
    "        super(Decoder, self).__init__()\n",
    "        self.FC_hidden = nn.Linear(latent_dim, hidden_dim)\n",
    "        self.FC_output = nn.Linear(hidden_dim, output_dim)\n",
    "        \n",
    "    def forward(self, x):\n",
    "        h     = torch.relu(self.FC_hidden(x))\n",
    "        x_hat = torch.sigmoid(self.FC_output(h))\n",
    "        return x_hat\n",
    "    \n",
    "    \n",
    "class Model(nn.Module):\n",
    "    def __init__(self, Encoder, Decoder):\n",
    "        super(Model, self).__init__()\n",
    "        self.Encoder = Encoder\n",
    "        self.Decoder = Decoder\n",
    "                \n",
    "    def forward(self, x):\n",
    "        z, mean, log_var = self.Encoder(x)\n",
    "        x_hat            = self.Decoder(z)\n",
    "        \n",
    "        return x_hat, mean, log_var"
   ]
  },
  {
   "cell_type": "code",
   "execution_count": 7,
   "id": "06ae8b85-18f4-4b58-8ac8-f43c0fd9d5c9",
   "metadata": {},
   "outputs": [],
   "source": [
    "    \n",
    "encoder = Encoder(input_dim=x_dim, hidden_dim=hidden_dim, latent_dim=latent_dim)\n",
    "decoder = Decoder(latent_dim=latent_dim, hidden_dim = hidden_dim, output_dim = x_dim)\n",
    "\n",
    "model = Model(Encoder=encoder, Decoder=decoder).to(DEVICE)\n",
    "\n",
    "from torch.optim import Adam\n",
    "\n",
    "BCE_loss = nn.BCELoss()\n",
    "\n",
    "def loss_function(x, x_hat, mean, log_var):\n",
    "    reproduction_loss = nn.functional.binary_cross_entropy(x_hat, x, reduction='sum')\n",
    "    KLD      = - 0.5 * torch.sum(1+ log_var - mean.pow(2) - log_var.exp())\n",
    "\n",
    "    return reproduction_loss + KLD\n",
    "\n",
    "optimizer = Adam(model.parameters(), lr=lr)"
   ]
  },
  {
   "cell_type": "code",
   "execution_count": 15,
   "id": "6d54744e-c46a-4612-bd10-075c88a90b05",
   "metadata": {},
   "outputs": [
    {
     "name": "stdout",
     "output_type": "stream",
     "text": [
      "Start training VAE...\n",
      "\tEpoch 1 complete! \tAverage Loss:  94.67060150706908\n",
      "Finish!!\n"
     ]
    }
   ],
   "source": [
    "print(\"Start training VAE...\")\n",
    "with torch.profiler.profile(\n",
    "    schedule=torch.profiler.schedule(\n",
    "        wait=2,\n",
    "        warmup=2,\n",
    "        active=6,\n",
    "        repeat=1),\n",
    "    on_trace_ready=tensorboard_trace_handler('C:\\\\Users\\\\annas\\\\OneDrive\\\\Dokumente\\\\DTU\\\\8_semester\\\\3weeks_MLops\\\\MLops_Exercises\\\\Day3\\\\ouput'),\n",
    "    with_stack=True\n",
    ") as profiler:\n",
    "    model.train()\n",
    "    for epoch in range(epochs):\n",
    "        overall_loss = 0\n",
    "        for batch_idx, (x, _) in enumerate(train_loader):\n",
    "            x = x.view(batch_size, x_dim)\n",
    "            x = x.to(DEVICE)\n",
    "\n",
    "            optimizer.zero_grad()\n",
    "            x_hat, mean, log_var = model(x)\n",
    "            loss = loss_function(x, x_hat, mean, log_var)\n",
    "\n",
    "            overall_loss += loss.item()\n",
    "\n",
    "            loss.backward()\n",
    "            optimizer.step()\n",
    "        print(\"\\tEpoch\", epoch + 1, \"complete!\", \"\\tAverage Loss: \", overall_loss / (batch_idx*batch_size))\n",
    "        profiler.step()\n",
    "    print(\"Finish!!\")"
   ]
  },
  {
   "cell_type": "code",
   "execution_count": 9,
   "id": "664493c0-d96d-4eef-adcc-20485bf26a16",
   "metadata": {},
   "outputs": [],
   "source": [
    "# Generate reconstructions\n",
    "model.eval()\n",
    "with torch.no_grad():\n",
    "    for batch_idx, (x, _) in enumerate(test_loader):\n",
    "        x = x.view(batch_size, x_dim)\n",
    "        x = x.to(DEVICE)      \n",
    "        x_hat, _, _ = model(x)       \n",
    "        break\n",
    "\n",
    "save_image(x.view(batch_size, 1, 28, 28), 'orig_data.png')\n",
    "save_image(x_hat.view(batch_size, 1, 28, 28), 'reconstructions.png')\n",
    "\n",
    "# Generate samples\n",
    "with torch.no_grad():\n",
    "    noise = torch.randn(batch_size, latent_dim).to(DEVICE)\n",
    "    generated_images = decoder(noise)\n",
    "    \n",
    "save_image(generated_images.view(batch_size, 1, 28, 28), 'generated_sample.png')\n",
    "\n",
    "# # run cProfile \n",
    "# cProfile.run('Encoder(784, 400, 20)', 'restats')\n",
    "# p = pstats.Stats('restats')\n",
    "# p.strip_dirs().sort_stats('time').print_stats()"
   ]
  }
 ],
 "metadata": {
  "kernelspec": {
   "display_name": "Python 3",
   "language": "python",
   "name": "python3"
  },
  "language_info": {
   "codemirror_mode": {
    "name": "ipython",
    "version": 3
   },
   "file_extension": ".py",
   "mimetype": "text/x-python",
   "name": "python",
   "nbconvert_exporter": "python",
   "pygments_lexer": "ipython3",
   "version": "3.8.5"
  }
 },
 "nbformat": 4,
 "nbformat_minor": 5
}
